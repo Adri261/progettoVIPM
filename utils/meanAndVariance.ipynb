{
 "cells": [
  {
   "cell_type": "code",
   "execution_count": 3,
   "metadata": {},
   "outputs": [
    {
     "name": "stdout",
     "output_type": "stream",
     "text": [
      "Current Working Directory: progettoVIPM\n"
     ]
    }
   ],
   "source": [
    "import os\n",
    "if(os.path.split(os.getcwd())[1] == \"Transfer_Learning\" or os.path.split(os.getcwd())[1] == \"semi-supervised\" or os.path.split(os.getcwd())[1] == \"self-supervised\" or os.path.split(os.getcwd())[1] == \"utils\"):\n",
    "    os.chdir(\"..\")\n",
    "print(\"Current Working Directory: {}\".format(os.path.split(os.getcwd())[1]))"
   ]
  },
  {
   "cell_type": "code",
   "execution_count": 4,
   "metadata": {},
   "outputs": [
    {
     "name": "stderr",
     "output_type": "stream",
     "text": [
      "c:\\Users\\marco\\Desktop\\Uni\\Magistrale\\VIPM\\Progetto\\.venv\\Lib\\site-packages\\torchvision\\models\\_utils.py:208: UserWarning: The parameter 'pretrained' is deprecated since 0.13 and may be removed in the future, please use 'weights' instead.\n",
      "  warnings.warn(\n",
      "c:\\Users\\marco\\Desktop\\Uni\\Magistrale\\VIPM\\Progetto\\.venv\\Lib\\site-packages\\torchvision\\models\\_utils.py:223: UserWarning: Arguments other than a weight enum or `None` for 'weights' are deprecated since 0.13 and may be removed in the future. The current behavior is equivalent to passing `weights=AlexNet_Weights.IMAGENET1K_V1`. You can also use `weights=AlexNet_Weights.DEFAULT` to get the most up-to-date weights.\n",
      "  warnings.warn(msg)\n",
      "c:\\Users\\marco\\Desktop\\Uni\\Magistrale\\VIPM\\Progetto\\.venv\\Lib\\site-packages\\torchvision\\models\\_utils.py:223: UserWarning: Arguments other than a weight enum or `None` for 'weights' are deprecated since 0.13 and may be removed in the future. The current behavior is equivalent to passing `weights=ResNet50_Weights.IMAGENET1K_V1`. You can also use `weights=ResNet50_Weights.DEFAULT` to get the most up-to-date weights.\n",
      "  warnings.warn(msg)\n",
      "c:\\Users\\marco\\Desktop\\Uni\\Magistrale\\VIPM\\Progetto\\.venv\\Lib\\site-packages\\torchvision\\models\\_utils.py:223: UserWarning: Arguments other than a weight enum or `None` for 'weights' are deprecated since 0.13 and may be removed in the future. The current behavior is equivalent to passing `weights=GoogLeNet_Weights.IMAGENET1K_V1`. You can also use `weights=GoogLeNet_Weights.DEFAULT` to get the most up-to-date weights.\n",
      "  warnings.warn(msg)\n",
      "c:\\Users\\marco\\Desktop\\Uni\\Magistrale\\VIPM\\Progetto\\.venv\\Lib\\site-packages\\torchvision\\models\\_utils.py:223: UserWarning: Arguments other than a weight enum or `None` for 'weights' are deprecated since 0.13 and may be removed in the future. The current behavior is equivalent to passing `weights=MobileNet_V3_Small_Weights.IMAGENET1K_V1`. You can also use `weights=MobileNet_V3_Small_Weights.DEFAULT` to get the most up-to-date weights.\n",
      "  warnings.warn(msg)\n"
     ]
    }
   ],
   "source": [
    "from utils.loadersAndEnums import datasets, ImageDataset\n",
    "from torch.utils.data import DataLoader\n",
    "\n",
    "train = ImageDataset(dataset=datasets.TRAINING_MIXED,network_input_size=256,cuda=False)\n",
    "train = DataLoader(train,128,False)"
   ]
  },
  {
   "cell_type": "code",
   "execution_count": 10,
   "metadata": {},
   "outputs": [
    {
     "name": "stdout",
     "output_type": "stream",
     "text": [
      "Channel-wise Mean: tensor([0.6354, 0.5413, 0.4419])\n",
      "Channel-wise Std: tensor([0.2760, 0.2900, 0.3161])\n"
     ]
    }
   ],
   "source": [
    "import torch\n",
    "\n",
    "\n",
    "n_images = 0\n",
    "channel_sum = torch.zeros(3)\n",
    "channel_squared_sum = torch.zeros(3)\n",
    "\n",
    "# Iterate over the DataLoader\n",
    "for images, _ in train:  # images are in shape [batch_size, channels, height, width]\n",
    "    n_images += images.size(0)\n",
    "    channel_sum += images.sum(dim=[0, 2, 3])  # Sum over batch, height, width\n",
    "    channel_squared_sum += (images ** 2).sum(dim=[0, 2, 3])  # Sum of squares\n",
    "\n",
    "# Calculate mean and std\n",
    "channel_mean = channel_sum / (n_images * images.size(2) * images.size(3))\n",
    "channel_std = (channel_squared_sum / (n_images * images.size(2) * images.size(3)) - channel_mean ** 2).sqrt()\n",
    "\n",
    "print(f\"Channel-wise Mean: {channel_mean}\")\n",
    "print(f\"Channel-wise Std: {channel_std}\")"
   ]
  }
 ],
 "metadata": {
  "kernelspec": {
   "display_name": ".venv",
   "language": "python",
   "name": "python3"
  },
  "language_info": {
   "codemirror_mode": {
    "name": "ipython",
    "version": 3
   },
   "file_extension": ".py",
   "mimetype": "text/x-python",
   "name": "python",
   "nbconvert_exporter": "python",
   "pygments_lexer": "ipython3",
   "version": "3.12.8"
  }
 },
 "nbformat": 4,
 "nbformat_minor": 2
}
