{
 "cells": [
  {
   "cell_type": "code",
   "execution_count": 1,
   "metadata": {},
   "outputs": [
    {
     "name": "stdout",
     "output_type": "stream",
     "text": [
      "Collecting git+https://github.com/albumentations-team/albumentations\n",
      "  Cloning https://github.com/albumentations-team/albumentations to c:\\users\\admin\\appdata\\local\\temp\\pip-req-build-oxwh9qjk\n",
      "  Resolved https://github.com/albumentations-team/albumentations to commit edb09e36cfe68d159be2167d6b02fb44d995d5a1\n",
      "  Installing build dependencies: started\n",
      "  Installing build dependencies: finished with status 'done'\n",
      "  Getting requirements to build wheel: started\n",
      "  Getting requirements to build wheel: finished with status 'done'\n",
      "  Preparing metadata (pyproject.toml): started\n",
      "  Preparing metadata (pyproject.toml): finished with status 'done'\n",
      "Requirement already satisfied: numpy>=1.24.4 in c:\\users\\admin\\appdata\\local\\programs\\python\\python312\\lib\\site-packages (from albumentations==1.4.24) (1.26.3)\n",
      "Requirement already satisfied: scipy>=1.10.0 in c:\\users\\admin\\appdata\\local\\programs\\python\\python312\\lib\\site-packages (from albumentations==1.4.24) (1.14.1)\n",
      "Requirement already satisfied: PyYAML in c:\\users\\admin\\appdata\\local\\programs\\python\\python312\\lib\\site-packages (from albumentations==1.4.24) (6.0.2)\n",
      "Requirement already satisfied: pydantic>=2.9.2 in c:\\users\\admin\\appdata\\roaming\\python\\python312\\site-packages (from albumentations==1.4.24) (2.10.4)\n",
      "Requirement already satisfied: albucore==0.0.23 in c:\\users\\admin\\appdata\\roaming\\python\\python312\\site-packages (from albumentations==1.4.24) (0.0.23)\n",
      "Requirement already satisfied: opencv-python-headless>=4.9.0.80 in c:\\users\\admin\\appdata\\roaming\\python\\python312\\site-packages (from albumentations==1.4.24) (4.10.0.84)\n",
      "Requirement already satisfied: stringzilla>=3.10.4 in c:\\users\\admin\\appdata\\local\\programs\\python\\python312\\lib\\site-packages (from albucore==0.0.23->albumentations==1.4.24) (3.11.3)\n",
      "Requirement already satisfied: simsimd>=5.9.2 in c:\\users\\admin\\appdata\\local\\programs\\python\\python312\\lib\\site-packages (from albucore==0.0.23->albumentations==1.4.24) (6.2.1)\n",
      "Requirement already satisfied: annotated-types>=0.6.0 in c:\\users\\admin\\appdata\\roaming\\python\\python312\\site-packages (from pydantic>=2.9.2->albumentations==1.4.24) (0.7.0)\n",
      "Requirement already satisfied: pydantic-core==2.27.2 in c:\\users\\admin\\appdata\\local\\programs\\python\\python312\\lib\\site-packages (from pydantic>=2.9.2->albumentations==1.4.24) (2.27.2)\n",
      "Requirement already satisfied: typing-extensions>=4.12.2 in c:\\users\\admin\\appdata\\local\\programs\\python\\python312\\lib\\site-packages (from pydantic>=2.9.2->albumentations==1.4.24) (4.12.2)\n",
      "Note: you may need to restart the kernel to use updated packages.\n"
     ]
    },
    {
     "name": "stderr",
     "output_type": "stream",
     "text": [
      "  Running command git clone --filter=blob:none --quiet https://github.com/albumentations-team/albumentations 'C:\\Users\\Admin\\AppData\\Local\\Temp\\pip-req-build-oxwh9qjk'\n"
     ]
    }
   ],
   "source": [
    "% pip install git+https://github.com/albumentations-team/albumentations\n"
   ]
  },
  {
   "cell_type": "code",
   "execution_count": 2,
   "metadata": {},
   "outputs": [],
   "source": [
    "import torch\n",
    "import torch.nn as nn\n",
    "import os\n",
    "import cv2\n",
    "import albumentations as A\n",
    "import numpy as np\n",
    "import pandas as pd\n",
    "import csv\n",
    "import matplotlib.pyplot as plt\n",
    "import warnings\n",
    "from tqdm import tqdm\n",
    "warnings.filterwarnings('ignore')\n",
    "from torchvision import models\n",
    "from torchvision import transforms\n",
    "from torch.utils.data import DataLoader\n",
    "from albumentations.pytorch import ToTensorV2\n",
    "import random\n",
    "import copy"
   ]
  },
  {
   "cell_type": "code",
   "execution_count": 4,
   "metadata": {},
   "outputs": [
    {
     "name": "stdout",
     "output_type": "stream",
     "text": [
      "Current Working Directory: progettoVIPM\n"
     ]
    }
   ],
   "source": [
    "if(os.path.split(os.getcwd())[1] == \"plain-augmentation\"):\n",
    "    os.chdir(\"..\")\n",
    "print(\"Current Working Directory: {}\".format(os.path.split(os.getcwd())[1]))\n",
    "\n",
    "cuda=False"
   ]
  },
  {
   "cell_type": "code",
   "execution_count": null,
   "metadata": {},
   "outputs": [],
   "source": [
    "random.seed(42)\n",
    "train_transform = A.Compose(\n",
    "    [\n",
    "        A.ShiftScaleRotate(shift_limit=0.05, scale_limit=0.05, rotate_limit=15, p=0.5),\n",
    "        A.RandomCrop(height=128, width=128, p=0.5),\n",
    "        A.RGBShift(r_shift_limit=15, g_shift_limit=15, b_shift_limit=15, p=0.5),\n",
    "        A.RandomBrightnessContrast(p=0.5),        \n",
    "        A.RandomToneCurve(scale=0.7, p=0.5),\n",
    "        A.Normalize(mean=(0.485, 0.456, 0.406), std=(0.229, 0.224, 0.225)),#as required by All pre-trained models of torch\n",
    "        ToTensorV2(),\n",
    "    ]\n",
    ")\n",
    "\n",
    "\n",
    "from utils.loadersAndEnums import datasets\n",
    "from utils.loadersAndEnums import networks\n",
    "from utils.loadersAndEnums import ImageDataset\n",
    "from utils.visualizing import visualize_some_image_in_loader\n",
    "\n",
    "datasetholder = ImageDataset(dataset=datasets.TRAINING_LABELED, network_input_size=256, cuda=False, transform=train_transform)\n",
    "loader = DataLoader(dataset=datasetholder, shuffle=False, batch_size=1)\n",
    "\n",
    "\n",
    "visualize_some_image_in_loader(loader, 4)\n"
   ]
  }
 ],
 "metadata": {
  "kernelspec": {
   "display_name": "Python 3",
   "language": "python",
   "name": "python3"
  },
  "language_info": {
   "codemirror_mode": {
    "name": "ipython",
    "version": 3
   },
   "file_extension": ".py",
   "mimetype": "text/x-python",
   "name": "python",
   "nbconvert_exporter": "python",
   "pygments_lexer": "ipython3",
   "version": "3.12.8"
  }
 },
 "nbformat": 4,
 "nbformat_minor": 2
}
