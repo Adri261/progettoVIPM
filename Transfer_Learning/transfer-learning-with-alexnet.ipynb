{
 "cells": [
  {
   "cell_type": "code",
   "execution_count": 2,
   "metadata": {},
   "outputs": [
    {
     "name": "stdout",
     "output_type": "stream",
     "text": [
      "Looking in indexes: https://download.pytorch.org/whl/cu118\n",
      "Requirement already satisfied: torch in d:\\uni\\primo semestre 5\\progetto visual\\progettovipm\\env\\lib\\site-packages (2.5.1+cu118)\n",
      "Requirement already satisfied: torchvision in d:\\uni\\primo semestre 5\\progetto visual\\progettovipm\\env\\lib\\site-packages (0.20.1+cu118)\n",
      "Requirement already satisfied: torchaudio in d:\\uni\\primo semestre 5\\progetto visual\\progettovipm\\env\\lib\\site-packages (2.5.1+cu118)\n",
      "Requirement already satisfied: filelock in d:\\uni\\primo semestre 5\\progetto visual\\progettovipm\\env\\lib\\site-packages (from torch) (3.13.1)\n",
      "Requirement already satisfied: typing-extensions>=4.8.0 in d:\\uni\\primo semestre 5\\progetto visual\\progettovipm\\env\\lib\\site-packages (from torch) (4.12.2)\n",
      "Requirement already satisfied: networkx in d:\\uni\\primo semestre 5\\progetto visual\\progettovipm\\env\\lib\\site-packages (from torch) (3.2.1)\n",
      "Requirement already satisfied: jinja2 in d:\\uni\\primo semestre 5\\progetto visual\\progettovipm\\env\\lib\\site-packages (from torch) (3.1.3)\n",
      "Requirement already satisfied: fsspec in d:\\uni\\primo semestre 5\\progetto visual\\progettovipm\\env\\lib\\site-packages (from torch) (2024.2.0)\n",
      "Requirement already satisfied: sympy==1.13.1 in d:\\uni\\primo semestre 5\\progetto visual\\progettovipm\\env\\lib\\site-packages (from torch) (1.13.1)\n",
      "Requirement already satisfied: mpmath<1.4,>=1.1.0 in d:\\uni\\primo semestre 5\\progetto visual\\progettovipm\\env\\lib\\site-packages (from sympy==1.13.1->torch) (1.3.0)\n",
      "Requirement already satisfied: numpy in d:\\uni\\primo semestre 5\\progetto visual\\progettovipm\\env\\lib\\site-packages (from torchvision) (1.26.3)\n",
      "Requirement already satisfied: pillow!=8.3.*,>=5.3.0 in d:\\uni\\primo semestre 5\\progetto visual\\progettovipm\\env\\lib\\site-packages (from torchvision) (10.2.0)\n",
      "Requirement already satisfied: MarkupSafe>=2.0 in d:\\uni\\primo semestre 5\\progetto visual\\progettovipm\\env\\lib\\site-packages (from jinja2->torch) (2.1.5)\n",
      "Note: you may need to restart the kernel to use updated packages.\n",
      "Requirement already satisfied: torchsummary in d:\\uni\\primo semestre 5\\progetto visual\\progettovipm\\env\\lib\\site-packages (1.5.1)\n",
      "Note: you may need to restart the kernel to use updated packages.\n",
      "Requirement already satisfied: numpy in d:\\uni\\primo semestre 5\\progetto visual\\progettovipm\\env\\lib\\site-packages (1.26.3)\n",
      "Note: you may need to restart the kernel to use updated packages.\n",
      "Requirement already satisfied: matplotlib in d:\\uni\\primo semestre 5\\progetto visual\\progettovipm\\env\\lib\\site-packages (3.10.0)\n",
      "Requirement already satisfied: contourpy>=1.0.1 in d:\\uni\\primo semestre 5\\progetto visual\\progettovipm\\env\\lib\\site-packages (from matplotlib) (1.3.1)\n",
      "Requirement already satisfied: cycler>=0.10 in d:\\uni\\primo semestre 5\\progetto visual\\progettovipm\\env\\lib\\site-packages (from matplotlib) (0.12.1)\n",
      "Requirement already satisfied: fonttools>=4.22.0 in d:\\uni\\primo semestre 5\\progetto visual\\progettovipm\\env\\lib\\site-packages (from matplotlib) (4.55.3)\n",
      "Requirement already satisfied: kiwisolver>=1.3.1 in d:\\uni\\primo semestre 5\\progetto visual\\progettovipm\\env\\lib\\site-packages (from matplotlib) (1.4.7)\n",
      "Requirement already satisfied: numpy>=1.23 in d:\\uni\\primo semestre 5\\progetto visual\\progettovipm\\env\\lib\\site-packages (from matplotlib) (1.26.3)\n",
      "Requirement already satisfied: packaging>=20.0 in d:\\uni\\primo semestre 5\\progetto visual\\progettovipm\\env\\lib\\site-packages (from matplotlib) (24.2)\n",
      "Requirement already satisfied: pillow>=8 in d:\\uni\\primo semestre 5\\progetto visual\\progettovipm\\env\\lib\\site-packages (from matplotlib) (10.2.0)\n",
      "Requirement already satisfied: pyparsing>=2.3.1 in d:\\uni\\primo semestre 5\\progetto visual\\progettovipm\\env\\lib\\site-packages (from matplotlib) (3.2.0)\n",
      "Requirement already satisfied: python-dateutil>=2.7 in d:\\uni\\primo semestre 5\\progetto visual\\progettovipm\\env\\lib\\site-packages (from matplotlib) (2.9.0.post0)\n",
      "Requirement already satisfied: six>=1.5 in d:\\uni\\primo semestre 5\\progetto visual\\progettovipm\\env\\lib\\site-packages (from python-dateutil>=2.7->matplotlib) (1.17.0)\n",
      "Note: you may need to restart the kernel to use updated packages.\n",
      "Requirement already satisfied: opencv-python in d:\\uni\\primo semestre 5\\progetto visual\\progettovipm\\env\\lib\\site-packages (4.10.0.84)Note: you may need to restart the kernel to use updated packages.\n",
      "\n",
      "Requirement already satisfied: numpy>=1.21.2 in d:\\uni\\primo semestre 5\\progetto visual\\progettovipm\\env\\lib\\site-packages (from opencv-python) (1.26.3)\n",
      "Requirement already satisfied: scikit-learn in d:\\uni\\primo semestre 5\\progetto visual\\progettovipm\\env\\lib\\site-packages (1.6.0)\n",
      "Requirement already satisfied: numpy>=1.19.5 in d:\\uni\\primo semestre 5\\progetto visual\\progettovipm\\env\\lib\\site-packages (from scikit-learn) (1.26.3)\n",
      "Requirement already satisfied: scipy>=1.6.0 in d:\\uni\\primo semestre 5\\progetto visual\\progettovipm\\env\\lib\\site-packages (from scikit-learn) (1.14.1)\n",
      "Requirement already satisfied: joblib>=1.2.0 in d:\\uni\\primo semestre 5\\progetto visual\\progettovipm\\env\\lib\\site-packages (from scikit-learn) (1.4.2)\n",
      "Requirement already satisfied: threadpoolctl>=3.1.0 in d:\\uni\\primo semestre 5\\progetto visual\\progettovipm\\env\\lib\\site-packages (from scikit-learn) (3.5.0)\n",
      "Note: you may need to restart the kernel to use updated packages.\n",
      "Requirement already satisfied: pandas in d:\\uni\\primo semestre 5\\progetto visual\\progettovipm\\env\\lib\\site-packages (2.2.3)\n",
      "Requirement already satisfied: numpy>=1.23.2 in d:\\uni\\primo semestre 5\\progetto visual\\progettovipm\\env\\lib\\site-packages (from pandas) (1.26.3)\n",
      "Requirement already satisfied: python-dateutil>=2.8.2 in d:\\uni\\primo semestre 5\\progetto visual\\progettovipm\\env\\lib\\site-packages (from pandas) (2.9.0.post0)\n",
      "Requirement already satisfied: pytz>=2020.1 in d:\\uni\\primo semestre 5\\progetto visual\\progettovipm\\env\\lib\\site-packages (from pandas) (2024.2)\n",
      "Requirement already satisfied: tzdata>=2022.7 in d:\\uni\\primo semestre 5\\progetto visual\\progettovipm\\env\\lib\\site-packages (from pandas) (2024.2)\n",
      "Requirement already satisfied: six>=1.5 in d:\\uni\\primo semestre 5\\progetto visual\\progettovipm\\env\\lib\\site-packages (from python-dateutil>=2.8.2->pandas) (1.17.0)\n",
      "Note: you may need to restart the kernel to use updated packages.\n",
      "Requirement already satisfied: tqdm in d:\\uni\\primo semestre 5\\progetto visual\\progettovipm\\env\\lib\\site-packages (4.67.1)\n",
      "Requirement already satisfied: colorama in d:\\uni\\primo semestre 5\\progetto visual\\progettovipm\\env\\lib\\site-packages (from tqdm) (0.4.6)\n",
      "Note: you may need to restart the kernel to use updated packages.\n",
      "Collecting pickle5\n",
      "  Using cached pickle5-0.0.11.tar.gz (132 kB)\n",
      "  Installing build dependencies: started\n",
      "  Installing build dependencies: finished with status 'done'\n",
      "  Getting requirements to build wheel: started\n",
      "  Getting requirements to build wheel: finished with status 'done'\n",
      "  Preparing metadata (pyproject.toml): started\n",
      "  Preparing metadata (pyproject.toml): finished with status 'done'\n",
      "Building wheels for collected packages: pickle5\n",
      "  Building wheel for pickle5 (pyproject.toml): started\n",
      "  Building wheel for pickle5 (pyproject.toml): finished with status 'error'\n",
      "Failed to build pickle5\n",
      "Note: you may need to restart the kernel to use updated packages.\n"
     ]
    },
    {
     "name": "stderr",
     "output_type": "stream",
     "text": [
      "  error: subprocess-exited-with-error\n",
      "  \n",
      "  × Building wheel for pickle5 (pyproject.toml) did not run successfully.\n",
      "  │ exit code: 1\n",
      "  ╰─> [15 lines of output]\n",
      "      running bdist_wheel\n",
      "      running build\n",
      "      running build_py\n",
      "      creating build\\lib.win-amd64-cpython-311\\pickle5\n",
      "      copying pickle5\\pickle.py -> build\\lib.win-amd64-cpython-311\\pickle5\n",
      "      copying pickle5\\pickletools.py -> build\\lib.win-amd64-cpython-311\\pickle5\n",
      "      copying pickle5\\__init__.py -> build\\lib.win-amd64-cpython-311\\pickle5\n",
      "      creating build\\lib.win-amd64-cpython-311\\pickle5\\test\n",
      "      copying pickle5\\test\\pickletester.py -> build\\lib.win-amd64-cpython-311\\pickle5\\test\n",
      "      copying pickle5\\test\\test_pickle.py -> build\\lib.win-amd64-cpython-311\\pickle5\\test\n",
      "      copying pickle5\\test\\test_picklebuffer.py -> build\\lib.win-amd64-cpython-311\\pickle5\\test\n",
      "      copying pickle5\\test\\__init__.py -> build\\lib.win-amd64-cpython-311\\pickle5\\test\n",
      "      running build_ext\n",
      "      building 'pickle5._pickle' extension\n",
      "      error: Microsoft Visual C++ 14.0 or greater is required. Get it with \"Microsoft C++ Build Tools\": https://visualstudio.microsoft.com/visual-cpp-build-tools/\n",
      "      [end of output]\n",
      "  \n",
      "  note: This error originates from a subprocess, and is likely not a problem with pip.\n",
      "  ERROR: Failed building wheel for pickle5\n",
      "ERROR: ERROR: Failed to build installable wheels for some pyproject.toml based projects (pickle5)\n"
     ]
    }
   ],
   "source": [
    "##installs pytorch on a cuda-capable windows machine using pip\n",
    "\n",
    "%pip install torch torchvision torchaudio --index-url https://download.pytorch.org/whl/cu118\n",
    "\n",
    "%pip install torchsummary\n",
    "\n",
    "%pip install numpy\n",
    "\n",
    "%pip install matplotlib\n",
    "\n",
    "%pip install opencv-python\n",
    "\n",
    "%pip install scikit-learn\n",
    "\n",
    "%pip install pandas\n",
    "\n",
    "%pip install tqdm\n",
    "\n",
    "%pip install pickle5"
   ]
  },
  {
   "cell_type": "code",
   "execution_count": 3,
   "metadata": {
    "trusted": true
   },
   "outputs": [],
   "source": [
    "import torch\n",
    "import torch.nn as nn\n",
    "import os\n",
    "import cv2\n",
    "import numpy as np\n",
    "import pandas as pd\n",
    "import csv\n",
    "import matplotlib.pyplot as plt\n",
    "import warnings\n",
    "from tqdm import tqdm\n",
    "warnings.filterwarnings('ignore')"
   ]
  },
  {
   "cell_type": "code",
   "execution_count": 4,
   "metadata": {
    "trusted": true
   },
   "outputs": [],
   "source": [
    "from torchvision import models\n",
    "from torchvision import transforms\n",
    "from sklearn.svm import LinearSVC\n",
    "from sklearn.naive_bayes import GaussianNB\n",
    "from sklearn.ensemble import RandomForestClassifier\n",
    "from sklearn.ensemble import GradientBoostingClassifier\n",
    "from sklearn.neighbors import KNeighborsClassifier\n"
   ]
  },
  {
   "cell_type": "code",
   "execution_count": 5,
   "metadata": {},
   "outputs": [
    {
     "name": "stdout",
     "output_type": "stream",
     "text": [
      "Current Working Directory: progettoVIPM\n"
     ]
    }
   ],
   "source": [
    "if(os.path.split(os.getcwd())[1] == \"Transfer_Learning\"):\n",
    "    os.chdir(\"..\")\n",
    "print(\"Current Working Directory: {}\".format(os.path.split(os.getcwd())[1]))\n",
    "\n",
    "cuda = True"
   ]
  },
  {
   "cell_type": "code",
   "execution_count": 6,
   "metadata": {},
   "outputs": [],
   "source": [
    "from torch.utils.data import Dataset\n",
    "from enum import Enum\n",
    "\n",
    "class datasets(Enum):\n",
    "    TRAINING_LABELED = [\"train_small.csv\", \"train_set\"]\n",
    "    TRAINING_UNLABELED = [\"train_unlabeled.csv\", \"train_set\"]\n",
    "    TEST = [\"val_info.csv\", \"val_set\"]\n",
    "    TEST_DEGRADED = [\"val_info.csv\", \"val_set_degraded\"]\n",
    "\n",
    "class networks(Enum):\n",
    "    ALEXNET = [227, models.alexnet(pretrained=True), \"AlexNet\"]\n",
    "    RESNET50 = [224, models.resnet50(pretrained=True), \"ResNet50\"]\n",
    "    GOOGLENET = [224, models.googlenet(pretrained=True), \"GoogLeNet\"]\n",
    "\n",
    "class ImageDataset(Dataset):\n",
    "    def __init__(self, dataset, network_input_size):\n",
    "        super().__init__()\n",
    "        self.images_names = []\n",
    "        self.labels = []\n",
    "        dataset = dataset.value\n",
    "        annotations_file = dataset[0]\n",
    "        img_dir = dataset[1]\n",
    "        with open(annotations_file, newline='') as csvfile:\n",
    "            reader = csv.reader(csvfile)\n",
    "            for row in reader:\n",
    "                self.images_names.append(\"./{}/{}\".format(img_dir, row[0]))\n",
    "                self.labels.append(row[1])\n",
    "        self.images_names = np.array(self.images_names)\n",
    "        self.labels = np.array(self.labels)\n",
    "        # in base al valore passato si sceglie la rete che utilizzerà il dataset, serve per modificare le dimensioni delle immagini\n",
    "        self.im_size = network_input_size\n",
    "    \n",
    "    def __len__(self):\n",
    "        return len(self.labels)\n",
    "    \n",
    "    def __getitem__(self, index):\n",
    "        #moveaxis serve per avere come dimensione dell'immagine (3, righe, colonne) invece di (righe, colonne, 3)\n",
    "        image = np.moveaxis(cv2.resize((cv2.imread(self.images_names[index], cv2.IMREAD_COLOR).astype(np.double)/255), \n",
    "                                       (self.im_size,self.im_size), \n",
    "                                        interpolation=cv2.INTER_CUBIC).astype(np.float32),\n",
    "                            -1, 0)\n",
    "        # eventualmente si può aggiungere l'alternativa di fare random cropping dell'immagine\n",
    "        label = self.labels[index]\n",
    "        if(cuda):\n",
    "            return torch.from_numpy(image).cuda(), label\n",
    "        else:\n",
    "            return image, label"
   ]
  },
  {
   "cell_type": "code",
   "execution_count": 7,
   "metadata": {},
   "outputs": [],
   "source": [
    "from torchsummary import summary\n",
    "from torch.utils.data import DataLoader\n",
    "from copy import deepcopy\n",
    "\n",
    "def extract_features_of_dataset(dataset, dataset_type, input_size, transfer_network, data_file):\n",
    "    if(os.path.exists(data_file)):\n",
    "        numpy_feat = np.load(data_file).astype(\"float32\")\n",
    "        if(cuda):            \n",
    "            net_features = torch.from_numpy(numpy_feat).to(device=\"cuda\")  \n",
    "        else:\n",
    "            net_features=-1\n",
    "        y = []\n",
    "        annotations_file = dataset.value[0]\n",
    "        with open(annotations_file, newline='') as csvfile:\n",
    "            reader = csv.reader(csvfile)\n",
    "            for row in reader:\n",
    "                y.append(row[1])\n",
    "        y = np.array(y).astype(\"int\")\n",
    "    else:\n",
    "        dataset_holder = ImageDataset(dataset=dataset, network_input_size=input_size)\n",
    "        loader = DataLoader(dataset=dataset_holder, shuffle=False, batch_size=1)\n",
    "        if(cuda):      \n",
    "            net_features = torch.zeros(len(dataset_holder), transfer_network.classifier[-1].out_features)\n",
    "            y = np.zeros(len(dataset_holder)).astype(\"int\")\n",
    "            transfer_network.eval()\n",
    "            with torch.no_grad():\n",
    "                i = 0               \n",
    "                print(\"extracting features:\")\n",
    "                for X_batch, y_batch in tqdm(loader):\n",
    "                    net_features[i]=transfer_network(X_batch)                           \n",
    "                    if (dataset_type != \"unlabled\"):  \n",
    "                        y[i] = y_batch[0]\n",
    "                    i=i+1    \n",
    "                    \n",
    "            #The following code copies the neural features to a numpy array stored in the cpu in order to use it in sklearn(non-neural) classifiers\n",
    "            numpy_feat = np.zeros(net_features.shape)\n",
    "            i = 0 \n",
    "            print(\"copying features:\")\n",
    "            for i in tqdm(range(len(net_features))):\n",
    "                numpy_feat[i]= net_features[i].cpu().numpy()    \n",
    "            np.save(data_file, numpy_feat)\n",
    "\n",
    "        else: #non-cuda case\n",
    "            \n",
    "            net_features=-1\n",
    "            numpy_feat = np.zeros((len(dataset_holder), transfer_network.classifier[-1].out_features))\n",
    "            y = np.zeros(len(dataset_holder)).astype(\"int\")\n",
    "            transfer_network.eval()\n",
    "            with torch.no_grad():\n",
    "                i = 0               \n",
    "                print(\"extracting features:\")\n",
    "                for X_batch, y_batch in tqdm(loader):\n",
    "                    numpy_feat[i]=transfer_network(X_batch)                           \n",
    "                    if (dataset_type != \"unlabled\"):  \n",
    "                        y[i] = y_batch[0]\n",
    "                    i=i+1    \n",
    "            np.save(data_file, numpy_feat)\n",
    "    print(\"---------------------------------------------------------------------------------\")\n",
    "    print(\"Done feat extraction, total n° of istances in {}: {}\".format(dataset_type, len(numpy_feat)))\n",
    "    print(\"Feature vector shape of {}: {}\".format(dataset_type, numpy_feat.shape))\n",
    "    print(\"Label vector shape of {}: {}\".format(dataset_type, y.shape))\n",
    "    print(\"---------------------------------------------------------------------------------\")\n",
    "\n",
    "    return net_features, numpy_feat, y\n",
    "    \n",
    "\n",
    "def extrac_features(train_set, test_set, network, layers_to_remove):\n",
    "    \n",
    "    net_input_size = network.value[0]\n",
    "    net = deepcopy(network.value[1])\n",
    "    if (cuda):\n",
    "        net.cuda()\n",
    "    fine_tune_layers = nn.Sequential(*[net.classifier[i] for i in range((len(net.classifier) - layers_to_remove), len(net.classifier))])\n",
    "    net.classifier = nn.Sequential(*[net.classifier[i] for i in range(len(net.classifier) - layers_to_remove)])\n",
    "    if train_set.value[0] == \"train_unlabeled.csv\":\n",
    "        dataset_name = \"train_unlabaled\"\n",
    "    dataset_name = train_set.value[1]\n",
    "    train_data_file = \"./Transfer_Learning/neural_features/Train_{}_minus{}_{}.npy\".format(network.value[2], layers_to_remove, dataset_name)\n",
    "\n",
    "    net_features_train, numpy_feat_train, y_train = extract_features_of_dataset(dataset=train_set, dataset_type=\"Train\",\n",
    "                                                                                input_size=net_input_size,\n",
    "                                                                                transfer_network=net,data_file=train_data_file)\n",
    "    \n",
    "    test_data_file = \"./Transfer_Learning/neural_features/Test_{}_minus{}_{}.npy\".format(network.value[2], layers_to_remove, test_set.value[1])\n",
    "    net_features_test, numpy_feat_test, y_test = extract_features_of_dataset(dataset=test_set, dataset_type=\"Test\",\n",
    "                                                                                input_size=net_input_size,\n",
    "                                                                                transfer_network=net,data_file=test_data_file)\n",
    "    \n",
    "    return net_features_train, numpy_feat_train, y_train, net_features_test, numpy_feat_test, y_test, fine_tune_layers\n",
    "    "
   ]
  },
  {
   "cell_type": "code",
   "execution_count": 113,
   "metadata": {},
   "outputs": [
    {
     "name": "stdout",
     "output_type": "stream",
     "text": [
      "---------------------------------------------------------------------------------\n",
      "Done feat extraction, total n° of istances in Train: 5020\n",
      "Feature vector shape of Train: (5020, 4096)\n",
      "Label vector shape of Train: (5020,)\n",
      "---------------------------------------------------------------------------------\n",
      "---------------------------------------------------------------------------------\n",
      "Done feat extraction, total n° of istances in Test: 11994\n",
      "Feature vector shape of Test: (11994, 4096)\n",
      "Label vector shape of Test: (11994,)\n",
      "---------------------------------------------------------------------------------\n",
      "Original classification layers:Sequential(\n",
      "  (0): Dropout(p=0.5, inplace=False)\n",
      "  (1): Linear(in_features=9216, out_features=4096, bias=True)\n",
      "  (2): ReLU(inplace=True)\n",
      "  (3): Dropout(p=0.5, inplace=False)\n",
      "  (4): Linear(in_features=4096, out_features=4096, bias=True)\n",
      "  (5): ReLU(inplace=True)\n",
      "  (6): Linear(in_features=4096, out_features=1000, bias=True)\n",
      ")\n",
      "---------------------------------------------------------------------------------\n",
      "Classification layers to fine tune:Sequential(\n",
      "  (0): ReLU(inplace=True)\n",
      "  (1): Linear(in_features=4096, out_features=1000, bias=True)\n",
      ")\n"
     ]
    }
   ],
   "source": [
    "# t sta per \"tensor\", ovvero il vettore sulla gpu, mentre \"n\" sta per \"numpy\", ovvero il vettore sulla cpu\n",
    "chosen_net = networks.ALEXNET\n",
    "layers_to_remove = 2\n",
    "X_train_ale_t, X_train_ale_n, y_train, X_test_ale_t, X_test_ale_n, y_test, fine_tune_layers = extrac_features(train_set=datasets.TRAINING_LABELED,\n",
    "                                                                                            test_set=datasets.TEST,\n",
    "                                                                                            network=chosen_net,\n",
    "                                                                                            layers_to_remove=layers_to_remove)\n",
    "print(\"Original classification layers:{}\".format(chosen_net.value[1].classifier[:]))\n",
    "print(\"---------------------------------------------------------------------------------\")\n",
    "print(\"Classification layers to fine tune:{}\".format(fine_tune_layers[:]))"
   ]
  },
  {
   "cell_type": "code",
   "execution_count": 9,
   "metadata": {
    "trusted": true
   },
   "outputs": [],
   "source": [
    "import pickle\n",
    "from sklearn.metrics import accuracy_score, confusion_matrix, ConfusionMatrixDisplay\n",
    "import matplotlib.pyplot as plt\n",
    "\n",
    "def model_building(model, model_name, X_train, X_test, y_train, y_test):\n",
    "    model.fit(X_train,y_train)\n",
    "    y_pred = model.predict(X_test)\n",
    "    acc=accuracy_score(y_test, y_pred)\n",
    "    cm = confusion_matrix(y_test, y_pred)\n",
    "    disp = ConfusionMatrixDisplay(confusion_matrix=cm,\n",
    "                              display_labels=model.classes_)\n",
    "    disp.plot()\n",
    "    plt.savefig(\"./Transfer_Learning/model_metrics/ConfM_{}.pdf\".format(model_name))\n",
    "    cm = np.array(cm)\n",
    "    np.save(\"./Transfer_Learning/model_metrics/ConfM_{}.npy\".format(model_name), cm)\n",
    "    with open('./Transfer_Learning/models/{}.pkl'.format(model_name),'wb') as f:\n",
    "        pickle.dump(model,f)\n",
    "    return acc"
   ]
  },
  {
   "cell_type": "code",
   "execution_count": 10,
   "metadata": {},
   "outputs": [
    {
     "data": {
      "image/png": "[encoded data removed]",
      "text/plain": [
       "<Figure size 640x480 with 1 Axes>"
      ]
     },
     "metadata": {},
     "output_type": "display_data"
    }
   ],
   "source": [
    "from sklearn.decomposition import PCA\n",
    "from sklearn.preprocessing import StandardScaler\n",
    "\n",
    "is_pca_used = False\n",
    "\n",
    "scaler = StandardScaler()\n",
    "scaled_data = scaler.fit_transform(X_train_ale_n)\n",
    "pca = PCA().fit(scaled_data)\n",
    "\n",
    "plt.plot(range(1, pca.n_components_ + 1), pca.explained_variance_ratio_, marker='o')\n",
    "plt.xlabel('Componenti della PCA')\n",
    "plt.ylabel('Varianza spiegata')\n",
    "plt.title(\"Risultati della PCA\")\n",
    "plt.show()\n"
   ]
  },
  {
   "cell_type": "code",
   "execution_count": 11,
   "metadata": {},
   "outputs": [
    {
     "name": "stdout",
     "output_type": "stream",
     "text": [
      "Final input shape train: (5020, 500)\n",
      "Final input shape test: (11994, 500)\n"
     ]
    }
   ],
   "source": [
    "components = 500\n",
    "pca = PCA(n_components=components).fit(scaled_data)\n",
    "X_train_pca = pca.transform(scaled_data)\n",
    "print(\"Final input shape train: {}\".format(X_train_pca.shape))\n",
    "\n",
    "scaled_data = scaler.fit_transform(X_test_ale_n)\n",
    "pca = PCA(n_components=components).fit(scaled_data)\n",
    "x_test_pca = pca.transform(scaled_data)\n",
    "print(\"Final input shape test: {}\".format(x_test_pca.shape))\n",
    "\n",
    "\n",
    "is_pca_used = True"
   ]
  },
  {
   "cell_type": "code",
   "execution_count": null,
   "metadata": {
    "trusted": true
   },
   "outputs": [],
   "source": [
    "class ml_models(Enum):\n",
    "    # LINEAR_SVC = [LinearSVC(), \"Linear Support Vector\"]\n",
    "    # RANDOM_FOREST = [RandomForestClassifier(), \"Random Forest\"]\n",
    "    # BOOSTED_FOREST = [GradientBoostingClassifier(), \"Gradient Boosting Classifier\"]\n",
    "    KNN_1 = [KNeighborsClassifier(n_neighbors=1), \"KNN with 1 neighbors\"]\n",
    "    # KNN_10 = [KNeighborsClassifier(n_neighbors=10), \"KNN with 10 neighbors\"]\n",
    "    # KNN_20 = [KNeighborsClassifier(n_neighbors=20), \"KNN with 20 neighbors\"]\n",
    "    # KNN_50 = [KNeighborsClassifier(n_neighbors=50), \"KNN with 50 neighbors\"]\n",
    "    # NAIVE_BAYES = [GaussianNB(), \"Naive Bayes\"]\n",
    "\n",
    "x_train = X_train_ale_n\n",
    "x_test = X_test_ale_n\n",
    "if is_pca_used:\n",
    "    x_train = X_train_pca\n",
    "    x_test =x_test_pca\n",
    "model_accuracies = []\n",
    "for model in tqdm(ml_models):    \n",
    "    model_name = \"{}_from_{}_minus{}\".format(model.value[1], chosen_net, layers_to_remove)\n",
    "    if is_pca_used:\n",
    "        model_name += \"_pca\"\n",
    "    score = model_building(model.value[0], model.value[1], x_train, x_test, y_train, y_test)\n",
    "    print(\"{} obtained following accuracy: {}\".format(model.value[1],score))\n",
    "    model_accuracies.append([model_name, score])\n",
    "model_accuracies = np.array(model_accuracies)\n",
    "accuracies_filename = \"./Transfer_Learning/model_metrics/Accuracies_{}_minus{}\".format(chosen_net, layers_to_remove)\n",
    "if is_pca_used:\n",
    "    accuracies_filename += \"_pca\"\n",
    "np.save(\"{}.npy\".format(accuracies_filename), model_accuracies)"
   ]
  },
  {
   "cell_type": "code",
   "execution_count": 114,
   "metadata": {},
   "outputs": [
    {
     "name": "stdout",
     "output_type": "stream",
     "text": [
      "Sequential(\n",
      "  (0): ReLU(inplace=True)\n",
      "  (1): Linear(in_features=4096, out_features=251, bias=True)\n",
      ")\n"
     ]
    }
   ],
   "source": [
    "fine_tune_layers[1].out_features = 251\n",
    "print(fine_tune_layers[:])\n",
    "model = deepcopy(fine_tune_layers)\n",
    "\n",
    "loss_function = torch.nn.CrossEntropyLoss()\n",
    "y_train = torch.tensor(y_train).type(torch.LongTensor).cuda()\n",
    "y_test = torch.tensor(y_test).type(torch.LongTensor).cuda()\n",
    "\n",
    "\n",
    "optimizer = torch.optim.SGD(model.parameters(), lr=0.001, momentum=0.9)\n",
    "\n",
    "dataset_train = torch.utils.data.TensorDataset(X_train_ale_t, y_train)\n",
    "\n",
    "train_dataset, val_dataset = torch.utils.data.random_split(dataset_train, [0.9, 0.1])\n",
    "\n",
    "\n",
    "training_loader = DataLoader(train_dataset, batch_size=128, shuffle=False)\n",
    "\n",
    "validation_loader = DataLoader(val_dataset, batch_size=128, shuffle=False)\n",
    "\n",
    "test_loader = DataLoader(torch.utils.data.TensorDataset(X_test_ale_t, y_test), batch_size=1, shuffle=False)\n",
    "\n"
   ]
  },
  {
   "cell_type": "code",
   "execution_count": 18,
   "metadata": {},
   "outputs": [
    {
     "name": "stdout",
     "output_type": "stream",
     "text": [
      "Collecting tensorboardX\n",
      "  Downloading tensorboardX-2.6.2.2-py2.py3-none-any.whl.metadata (5.8 kB)\n",
      "Requirement already satisfied: numpy in d:\\uni\\primo semestre 5\\progetto visual\\progettovipm\\env\\lib\\site-packages (from tensorboardX) (1.26.3)\n",
      "Requirement already satisfied: packaging in d:\\uni\\primo semestre 5\\progetto visual\\progettovipm\\env\\lib\\site-packages (from tensorboardX) (24.2)\n",
      "Requirement already satisfied: protobuf>=3.20 in d:\\uni\\primo semestre 5\\progetto visual\\progettovipm\\env\\lib\\site-packages (from tensorboardX) (5.29.2)\n",
      "Downloading tensorboardX-2.6.2.2-py2.py3-none-any.whl (101 kB)\n",
      "Installing collected packages: tensorboardX\n",
      "Successfully installed tensorboardX-2.6.2.2\n",
      "Note: you may need to restart the kernel to use updated packages.\n"
     ]
    }
   ],
   "source": [
    "%pip install tensorboardX"
   ]
  },
  {
   "cell_type": "code",
   "execution_count": 115,
   "metadata": {},
   "outputs": [],
   "source": [
    "def train_one_epoch(epoch_index, tb_writer, training_loader, model, loss_function, optimizer):\n",
    "    running_loss = 0.\n",
    "    avg_batch_loss = 0.\n",
    "    n_batch = 0\n",
    "    # Here, we use enumerate(training_loader) instead of\n",
    "    # iter(training_loader) so that we can track the batch\n",
    "    # index and do some intra-epoch reporting\n",
    "    for i, data in enumerate(training_loader):\n",
    "        # Every data instance is an input + label pair\n",
    "        inputs, labels = data\n",
    "\n",
    "        # Zero your gradients for every batch!\n",
    "        optimizer.zero_grad()\n",
    "\n",
    "        # Make predictions for this batch\n",
    "        outputs = model(inputs)\n",
    "\n",
    "        # Compute the loss and its gradients\n",
    "        loss = loss_function(outputs, labels)\n",
    "        avg_batch_loss += loss.item()\n",
    "        loss.backward()\n",
    "\n",
    "        # Adjust learning weights\n",
    "        optimizer.step()\n",
    "\n",
    "        # Gather data and report\n",
    "        # running_loss += loss.item()\n",
    "        # if i % 10 == 9:\n",
    "        #     last_loss = running_loss / 10 # loss per batch\n",
    "        #     print('  batch {} loss: {}'.format(i + 1, last_loss))\n",
    "        #     tb_x = epoch_index * len(training_loader) + i + 1\n",
    "        #     tb_writer.add_scalar('Loss/train', last_loss, tb_x)\n",
    "        #     running_loss = 0.\n",
    "        n_batch += 1\n",
    "\n",
    "    return avg_batch_loss/n_batch"
   ]
  },
  {
   "cell_type": "code",
   "execution_count": 116,
   "metadata": {},
   "outputs": [],
   "source": [
    "from datetime import datetime\n",
    "from tensorboardX import SummaryWriter\n",
    "from IPython.display import clear_output\n",
    "def train_model(training_loader, validation_loader, n_epochs, model, loss_function, optimizer):\n",
    "    timestamp = datetime.now().strftime('%Y%m%d_%H%M%S')\n",
    "    writer = SummaryWriter('runs/fashion_trainer_{}'.format(timestamp))\n",
    "\n",
    "    epoch_number = 0\n",
    "\n",
    "\n",
    "    best_vloss = 1_000_000.\n",
    "\n",
    "    losses = np.empty((n_epochs,2))\n",
    "\n",
    "\n",
    "    for epoch in range(n_epochs):\n",
    "        clear_output(wait=True)\n",
    "        print('EPOCH {}:'.format(epoch_number + 1))\n",
    "\n",
    "        # Make sure gradient tracking is on, and do a pass over the data\n",
    "        model.train(True)\n",
    "        avg_loss = train_one_epoch(epoch_number, writer, training_loader, model, loss_function, optimizer)\n",
    "\n",
    "\n",
    "        running_vloss = 0.0\n",
    "        # Set the model to evaluation mode, disabling dropout and using population\n",
    "        # statistics for batch normalization.\n",
    "        model.eval()\n",
    "\n",
    "        # Disable gradient computation and reduce memory consumption.\n",
    "        with torch.no_grad():\n",
    "            for i, vdata in enumerate(validation_loader):\n",
    "                vinputs, vlabels = vdata\n",
    "                voutputs = model(vinputs)\n",
    "                vloss = loss_function(voutputs, vlabels)\n",
    "                running_vloss += vloss.item()\n",
    "\n",
    "        avg_vloss = running_vloss / (i + 1)\n",
    "        losses[epoch_number] = [avg_loss, avg_vloss]\n",
    "        print('LOSS: train {}; valid {}'.format(avg_loss, avg_vloss))\n",
    "\n",
    "        # Log the running loss averaged per batch\n",
    "        # for both training and validation\n",
    "        writer.add_scalars('Training vs. Validation Loss',\n",
    "                        { 'Training' : avg_loss, 'Validation' : avg_vloss },\n",
    "                        epoch_number + 1)\n",
    "        writer.flush()\n",
    "\n",
    "        # Track best performance, and save the model's state\n",
    "        # if avg_vloss < best_vloss:\n",
    "        #     best_vloss = avg_vloss\n",
    "        #     model_path = './Transfer_Learning/models/neural/model_{}_{}'.format(timestamp, epoch_number)\n",
    "        #     torch.save(model.state_dict(), model_path)\n",
    "\n",
    "        epoch_number += 1\n",
    "    return model, losses"
   ]
  },
  {
   "cell_type": "code",
   "execution_count": 117,
   "metadata": {},
   "outputs": [
    {
     "name": "stdout",
     "output_type": "stream",
     "text": [
      "EPOCH 20:\n",
      "LOSS: train 3.0484948737753763; valid 4.888046383857727\n"
     ]
    }
   ],
   "source": [
    "\n",
    "trained_model, losses = train_model(training_loader, validation_loader, n_epochs=20, \n",
    "                                    model=model, loss_function=loss_function, optimizer=optimizer)"
   ]
  },
  {
   "cell_type": "code",
   "execution_count": 118,
   "metadata": {},
   "outputs": [
    {
     "data": {
      "image/png": "[encoded data removed]",
      "text/plain": [
       "<Figure size 640x480 with 1 Axes>"
      ]
     },
     "metadata": {},
     "output_type": "display_data"
    }
   ],
   "source": [
    "def plot_loss(history):\n",
    "  x_plot = list(range(1,len(history)+1))\n",
    "  plt.figure()\n",
    "  plt.title(\"Loss\")\n",
    "  plt.xlabel('Epochs')\n",
    "  plt.ylabel('Loss')\n",
    "  plt.plot(x_plot, history[:,0])\n",
    "  plt.plot(x_plot, history[:,1])\n",
    "  plt.legend(['Training', 'Validation'])\n",
    "\n",
    "# print(losses)\n",
    "plot_loss(losses)"
   ]
  },
  {
   "cell_type": "code",
   "execution_count": 126,
   "metadata": {},
   "outputs": [
    {
     "name": "stderr",
     "output_type": "stream",
     "text": [
      "11994it [00:09, 1296.96it/s]"
     ]
    },
    {
     "name": "stdout",
     "output_type": "stream",
     "text": [
      "Accuracy: 0.09971652492913123\n"
     ]
    },
    {
     "name": "stderr",
     "output_type": "stream",
     "text": [
      "\n"
     ]
    }
   ],
   "source": [
    "trained_model.eval()\n",
    "\n",
    "predictions = np.zeros(len(test_loader))\n",
    "# Disable gradient computation and reduce memory consumption.\n",
    "with torch.no_grad():\n",
    "    for i, test_data in tqdm(enumerate(test_loader)):\n",
    "        test_features, test_labels = test_data\n",
    "        predictions[i] = np.argmax(np.array(trained_model(test_features).cpu()))\n",
    "y_test = np.array(y_test.cpu())\n",
    "accuracy = accuracy_score(y_test, predictions)\n",
    "print(\"Accuracy: {}\".format(accuracy))\n",
    "        "
   ]
  }
 ],
 "metadata": {
  "kernelspec": {
   "display_name": "env",
   "language": "python",
   "name": "python3"
  },
  "language_info": {
   "codemirror_mode": {
    "name": "ipython",
    "version": 3
   },
   "file_extension": ".py",
   "mimetype": "text/x-python",
   "name": "python",
   "nbconvert_exporter": "python",
   "pygments_lexer": "ipython3",
   "version": "3.11.7"
  }
 },
 "nbformat": 4,
 "nbformat_minor": 4
}
