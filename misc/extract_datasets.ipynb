{
 "cells": [
  {
   "cell_type": "code",
   "execution_count": 1,
   "metadata": {},
   "outputs": [],
   "source": [
    "import numpy as np\n",
    "import matplotlib.pyplot as plt\n",
    "import os\n",
    "import csv\n",
    "from tqdm import tqdm\n",
    "import shutil\n",
    "from tqdm import tqdm\n"
   ]
  },
  {
   "cell_type": "code",
   "execution_count": 2,
   "metadata": {},
   "outputs": [
    {
     "name": "stdout",
     "output_type": "stream",
     "text": [
      "Current Working Directory: progettoVIPM\n"
     ]
    }
   ],
   "source": [
    "if(os.path.split(os.getcwd())[1] == \"misc\"):\n",
    "    os.chdir(\"..\")\n",
    "print(\"Current Working Directory: {}\".format(os.path.split(os.getcwd())[1]))\n",
    "\n",
    "cuda = True"
   ]
  },
  {
   "cell_type": "code",
   "execution_count": null,
   "metadata": {},
   "outputs": [],
   "source": [
    "# Extract one example from each class and put it in \"unique_classes.csv\"\n",
    "\n",
    "file = np.loadtxt(\"train_small.csv\", delimiter=\",\", dtype=\"str\")\n",
    "file[:,1] = file[:,1].astype(\"int\")\n",
    "unique_classes = np.unique(file[:,1], return_index=True)[0].astype(\"int\")\n",
    "unique_indexes = np.unique(file[:,1], return_index=True)[1]\n",
    "holder = np.stack((unique_indexes, unique_classes), axis=-1)\n",
    "\n",
    "holder = np.sort(holder, axis=0)\n",
    "unique_filenames = file[holder[:,0]]\n",
    "\n",
    "\n",
    "print(unique_filenames)\n",
    "rows = [\"{},{}\".format(i, j) for i, j in unique_filenames] \n",
    "text = \"\\n\".join(rows) \n",
    "\n",
    "\n",
    "with open('unique_classes.csv', 'w') as f: \n",
    "    f.write(text)"
   ]
  },
  {
   "cell_type": "code",
   "execution_count": null,
   "metadata": {},
   "outputs": [],
   "source": [
    "# Separate all of the images classes from the labelled training set and isolate them in folders in parent folder \"separated_training_set\" \n",
    "\n",
    "file = np.loadtxt(\"train_small.csv\", delimiter=\",\", dtype=\"str\")\n",
    "file[:,1] = file[:,1].astype(\"int\")\n",
    "print(file)\n",
    "path = \"./separated_training_set/\"\n",
    "for i in range(0,251):\n",
    "    path_folder = path + str(i) \n",
    "    if not os.path.exists(path_folder):\n",
    "        os.makedirs(path_folder)\n",
    "\n",
    "\n",
    "for instance in tqdm(file):\n",
    "    path_folder = path + instance[1]\n",
    "    shutil.copy(\"./train_set/{}\".format(instance[0]), path_folder)\n"
   ]
  },
  {
   "cell_type": "code",
   "execution_count": 48,
   "metadata": {},
   "outputs": [
    {
     "name": "stdout",
     "output_type": "stream",
     "text": [
      "(1004, 2)\n",
      "(4016, 2)\n"
     ]
    }
   ],
   "source": [
    "# Extract a validation set from the labelled training set\n",
    "# Note: running the code will overwrite the files of the generated split\n",
    "\n",
    "validation_im_per_class = 4\n",
    "path = \"./separated_training_set/\"\n",
    "val_set = np.empty((validation_im_per_class*251,2)).astype(str)\n",
    "train_set = np.empty(((20-validation_im_per_class)*251,2)).astype(str)\n",
    "for i in range(0,251):\n",
    "    path_folder = path + str(i)\n",
    "    file_list = np.array(os.listdir(path_folder))\n",
    "    start_class_index = i*(validation_im_per_class)\n",
    "    end_class_index = start_class_index+validation_im_per_class\n",
    "    random_extraction = np.random.permutation(20)\n",
    "    chosen_images = file_list[random_extraction[:validation_im_per_class].tolist()]\n",
    "    val_set[start_class_index:end_class_index, 0] = chosen_images[:]\n",
    "    val_set[start_class_index:end_class_index, 1] = i\n",
    "\n",
    "    start_class_index = i*(20-validation_im_per_class)\n",
    "    end_class_index = start_class_index+(20-validation_im_per_class)\n",
    "    chosen_images = file_list[random_extraction[validation_im_per_class:].tolist()]\n",
    "    train_set[start_class_index:end_class_index, 0] = chosen_images[:]\n",
    "    train_set[start_class_index:end_class_index, 1] = i\n",
    "\n",
    "print(val_set.shape)\n",
    "print(train_set.shape)\n",
    "\n",
    "val_percentage = ((validation_im_per_class*251)/(251*20))*100\n",
    "filename = \"validation_set_{}%.csv\".format(int(val_percentage))\n",
    "np.savetxt(filename, val_set,  delimiter = \",\", fmt='%s')\n",
    "\n",
    "filename = \"training_set_{}%.csv\".format(100-int(val_percentage))\n",
    "np.savetxt(filename, train_set,  delimiter = \",\", fmt='%s')"
   ]
  }
 ],
 "metadata": {
  "kernelspec": {
   "display_name": "env",
   "language": "python",
   "name": "python3"
  },
  "language_info": {
   "codemirror_mode": {
    "name": "ipython",
    "version": 3
   },
   "file_extension": ".py",
   "mimetype": "text/x-python",
   "name": "python",
   "nbconvert_exporter": "python",
   "pygments_lexer": "ipython3",
   "version": "3.11.7"
  }
 },
 "nbformat": 4,
 "nbformat_minor": 2
}
