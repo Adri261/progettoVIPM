{
 "cells": [
  {
   "cell_type": "code",
   "execution_count": 1,
   "metadata": {},
   "outputs": [],
   "source": [
    "import numpy as np\n",
    "import matplotlib.pyplot as plt\n",
    "import os\n",
    "import csv\n",
    "from tqdm import tqdm"
   ]
  },
  {
   "cell_type": "code",
   "execution_count": 2,
   "metadata": {},
   "outputs": [
    {
     "name": "stdout",
     "output_type": "stream",
     "text": [
      "Current Working Directory: progettoVIPM\n"
     ]
    }
   ],
   "source": [
    "if(os.path.split(os.getcwd())[1] == \"misc\"):\n",
    "    os.chdir(\"..\")\n",
    "print(\"Current Working Directory: {}\".format(os.path.split(os.getcwd())[1]))\n",
    "\n",
    "cuda = True"
   ]
  },
  {
   "cell_type": "code",
   "execution_count": 8,
   "metadata": {},
   "outputs": [],
   "source": [
    "class Confusion_Matrix_stats():\n",
    "    def __init__(self, filename):\n",
    "        \n",
    "        # Load the data from file\n",
    "\n",
    "        self.filename = filename\n",
    "\n",
    "        if \".npy\" in filename:\n",
    "            print(\"File is readable by numpy\")\n",
    "            self.cm = np.load(filename).astype(\"float32\")\n",
    "        if \".csv\" in filename:\n",
    "            print(\"File is readable by csv\")\n",
    "            self.cm = np.loadtxt(filename, delimiter=\",\", dtype=np.int64)\n",
    "        \n",
    "        # Compute basic metrics\n",
    "\n",
    "        self.accuracy = self.cm.diagonal()/self.cm.sum(axis=1)\n",
    "        \n",
    "\n",
    "        prod_matrix = np.ones(self.cm.shape, dtype=np.int8)\n",
    "        print(prod_matrix)\n",
    "\n",
    "        np.fill_diagonal(prod_matrix, 0)\n",
    "\n",
    "        self.false_negative = np.dot(self.cm, prod_matrix).diagonal()\n",
    "\n",
    "        self.false_positive = np.dot(np.transpose(self.cm), prod_matrix).diagonal()\n",
    "\n",
    "        self.true_positive = self.cm.diagonal()\n",
    "\n",
    "        print(\"sum:{}\".format(self.cm.sum()))\n",
    "\n",
    "        self.real_positive = np.sum(self.cm, axis=1)\n",
    "\n",
    "        self.real_negative = np.sum(self.cm, axis=0)\n",
    "\n",
    "        self.true_negative = -self.real_negative + self.cm.sum() - self.real_positive + self.true_positive\n",
    "\n",
    "        self.predicted_positive = self.true_positive + self.false_positive\n",
    "\n",
    "        self.predicted_negative = self.true_negative + self.false_negative\n",
    "\n",
    "        indexes = np.arange(self.cm.shape[0])\n",
    "\n",
    "        self.accuracy = np.concatenate(([self.accuracy], [indexes]), axis=0)\n",
    "        print(indexes)\n",
    "\n",
    "    def show_basic_metric(self):\n",
    "        print(\"Showing basic metrics of: {}\".format(self.filename))\n",
    "        print(\"----------------------------------------------------\")\n",
    "        print(\"Accuracy: {}\".format(self.accuracy))\n",
    "        print(self.false_negative)\n",
    "        print(self.false_positive)\n",
    "        print(self.true_negative)\n",
    "        print(self.real_positive)\n",
    "        print(self.real_negative)\n",
    "        print(self.predicted_positive)\n",
    "        print(self.predicted_negative)"
   ]
  },
  {
   "cell_type": "code",
   "execution_count": 9,
   "metadata": {},
   "outputs": [
    {
     "name": "stdout",
     "output_type": "stream",
     "text": [
      "File is readable by csv\n",
      "[[1 1 1]\n",
      " [1 1 1]\n",
      " [1 1 1]]\n",
      "sum:31\n",
      "[0 1 2]\n",
      "Showing basic metrics of: prova.csv\n",
      "----------------------------------------------------\n",
      "Accuracy: [0.66666667 0.72727273 0.72727273]\n",
      "[3 3 3]\n",
      "[3 3 3]\n",
      "[19 17 17]\n",
      "[ 9 11 11]\n",
      "[ 9 11 11]\n",
      "[ 9 11 11]\n",
      "[22 20 20]\n"
     ]
    }
   ],
   "source": [
    "filename = \"prova.csv\"\n",
    "confusion_matrix = Confusion_Matrix_stats(filename)\n",
    "confusion_matrix.show_basic_metric()"
   ]
  }
 ],
 "metadata": {
  "kernelspec": {
   "display_name": "env",
   "language": "python",
   "name": "python3"
  },
  "language_info": {
   "codemirror_mode": {
    "name": "ipython",
    "version": 3
   },
   "file_extension": ".py",
   "mimetype": "text/x-python",
   "name": "python",
   "nbconvert_exporter": "python",
   "pygments_lexer": "ipython3",
   "version": "3.11.7"
  }
 },
 "nbformat": 4,
 "nbformat_minor": 2
}
